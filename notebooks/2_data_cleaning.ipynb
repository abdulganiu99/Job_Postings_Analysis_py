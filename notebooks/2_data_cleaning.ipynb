{
 "cells": [
  {
   "cell_type": "code",
   "execution_count": 1,
   "metadata": {},
   "outputs": [],
   "source": [
    "# Importing Libraries\n",
    "import matplotlib.pyplot as plt\n",
    "import seaborn as sns\n",
    "import ast\n",
    "import pandas as pd\n",
    "from datasets import load_dataset\n",
    "\n",
    "# Loading Data\n",
    "df = load_dataset('lukebarousse/data_jobs', split='train').to_pandas()\n",
    "\n",
    "# Save the raw data\n",
    "df.to_csv('C:/Users/DELL/Job-Postings-Analysis/data/raw_data.csv', index=False)\n",
    "\n",
    "import ast\n",
    "df['job_skills'] = df['job_skills'].apply(lambda x: ast.literal_eval(x) if pd.notna(x) else x)\n"
   ]
  }
 ],
 "metadata": {
  "kernelspec": {
   "display_name": "Job-Postings-Analysis",
   "language": "python",
   "name": "python3"
  },
  "language_info": {
   "codemirror_mode": {
    "name": "ipython",
    "version": 3
   },
   "file_extension": ".py",
   "mimetype": "text/x-python",
   "name": "python",
   "nbconvert_exporter": "python",
   "pygments_lexer": "ipython3",
   "version": "3.12.8"
  }
 },
 "nbformat": 4,
 "nbformat_minor": 2
}
